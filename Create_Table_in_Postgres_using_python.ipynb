{
 "cells": [
  {
   "cell_type": "markdown",
   "id": "079b60ca",
   "metadata": {},
   "source": [
    "# Creating a Table with PostgreSQL"
   ]
  },
  {
   "cell_type": "code",
   "execution_count": 1,
   "id": "d9e81376",
   "metadata": {},
   "outputs": [
    {
     "name": "stdout",
     "output_type": "stream",
     "text": [
      "Collecting psycopg2\n",
      "  Downloading psycopg2-2.9.6-cp311-cp311-win_amd64.whl (1.2 MB)\n",
      "                                              0.0/1.2 MB ? eta -:--:--\n",
      "     -                                        0.0/1.2 MB 660.6 kB/s eta 0:00:02\n",
      "     --                                       0.1/1.2 MB 656.4 kB/s eta 0:00:02\n",
      "     ---                                      0.1/1.2 MB 655.4 kB/s eta 0:00:02\n",
      "     ----                                     0.1/1.2 MB 722.1 kB/s eta 0:00:02\n",
      "     -----                                    0.2/1.2 MB 748.1 kB/s eta 0:00:02\n",
      "     -----                                    0.2/1.2 MB 748.1 kB/s eta 0:00:02\n",
      "     --------                                 0.3/1.2 MB 785.2 kB/s eta 0:00:02\n",
      "     ---------                                0.3/1.2 MB 739.6 kB/s eta 0:00:02\n",
      "     ----------                               0.3/1.2 MB 756.6 kB/s eta 0:00:02\n",
      "     ------------                             0.4/1.2 MB 791.2 kB/s eta 0:00:02\n",
      "     -------------                            0.4/1.2 MB 781.2 kB/s eta 0:00:01\n",
      "     ---------------                          0.5/1.2 MB 782.1 kB/s eta 0:00:01\n",
      "     ----------------                         0.5/1.2 MB 810.2 kB/s eta 0:00:01\n",
      "     ------------------                       0.5/1.2 MB 830.7 kB/s eta 0:00:01\n",
      "     --------------------                     0.6/1.2 MB 848.4 kB/s eta 0:00:01\n",
      "     ----------------------                   0.7/1.2 MB 860.2 kB/s eta 0:00:01\n",
      "     -------------------------                0.7/1.2 MB 917.8 kB/s eta 0:00:01\n",
      "     --------------------------               0.8/1.2 MB 927.5 kB/s eta 0:00:01\n",
      "     -----------------------------            0.9/1.2 MB 953.9 kB/s eta 0:00:01\n",
      "     -------------------------------          0.9/1.2 MB 949.8 kB/s eta 0:00:01\n",
      "     ---------------------------------        1.0/1.2 MB 987.6 kB/s eta 0:00:01\n",
      "     -----------------------------------      1.0/1.2 MB 993.2 kB/s eta 0:00:01\n",
      "     -------------------------------------    1.1/1.2 MB 1.0 MB/s eta 0:00:01\n",
      "     ---------------------------------------  1.2/1.2 MB 1.0 MB/s eta 0:00:01\n",
      "     ---------------------------------------- 1.2/1.2 MB 996.0 kB/s eta 0:00:00\n",
      "Installing collected packages: psycopg2\n",
      "Successfully installed psycopg2-2.9.6\n"
     ]
    }
   ],
   "source": [
    "!pip install psycopg2"
   ]
  },
  {
   "cell_type": "code",
   "execution_count": 2,
   "id": "fccb37b7",
   "metadata": {},
   "outputs": [],
   "source": [
    "import psycopg2"
   ]
  },
  {
   "cell_type": "markdown",
   "id": "908219de",
   "metadata": {},
   "source": [
    "# Create a connection with database"
   ]
  },
  {
   "cell_type": "code",
   "execution_count": 3,
   "id": "21b12d56",
   "metadata": {},
   "outputs": [],
   "source": [
    "try :\n",
    "    conn = psycopg2.connect(\"host = localhost dbname = postgres user = postgres password = root\")\n",
    "except psycopg2.Error as e:\n",
    "    print('Error : Connection failed')\n",
    "    print(e)"
   ]
  },
  {
   "cell_type": "markdown",
   "id": "449556ac",
   "metadata": {},
   "source": [
    "# Get the cursor that can be used to execute queries"
   ]
  },
  {
   "cell_type": "code",
   "execution_count": 4,
   "id": "7006df21",
   "metadata": {},
   "outputs": [],
   "source": [
    "try :\n",
    "    cur = conn.cursor()\n",
    "except psycopg2.Error as e:\n",
    "    print('Error : Could not get the cursor')\n",
    "    print(e)\n",
    "    "
   ]
  },
  {
   "cell_type": "markdown",
   "id": "3774207e",
   "metadata": {},
   "source": [
    "# Set aurocommit"
   ]
  },
  {
   "cell_type": "code",
   "execution_count": 5,
   "id": "36b7a499",
   "metadata": {},
   "outputs": [],
   "source": [
    "conn.set_session(autocommit=True)"
   ]
  },
  {
   "cell_type": "markdown",
   "id": "ff185472",
   "metadata": {},
   "source": [
    "# Create New Database "
   ]
  },
  {
   "cell_type": "code",
   "execution_count": 6,
   "id": "fa583184",
   "metadata": {},
   "outputs": [],
   "source": [
    "try :\n",
    "    cur.execute('create database firstdb')\n",
    "except psycopg2.Error as e:\n",
    "    print(e)"
   ]
  },
  {
   "cell_type": "code",
   "execution_count": 7,
   "id": "7c5f2904",
   "metadata": {},
   "outputs": [],
   "source": [
    "try :\n",
    "    conn.close()\n",
    "except psycopg2.Error as e:\n",
    "    print(e)"
   ]
  },
  {
   "cell_type": "code",
   "execution_count": 8,
   "id": "d5ddaf0e",
   "metadata": {},
   "outputs": [],
   "source": [
    "try :\n",
    "    conn = psycopg2.connect(\"host = localhost dbname = firstdb user = postgres password = root\")\n",
    "except psycopg2.Error as e:\n",
    "    print('Error : Connection failed')\n",
    "    print(e)"
   ]
  },
  {
   "cell_type": "code",
   "execution_count": 9,
   "id": "183c4266",
   "metadata": {},
   "outputs": [],
   "source": [
    "try :\n",
    "    cur = conn.cursor()\n",
    "except psycopg2.Error as e:\n",
    "    print('Error : Could not get the cursor')\n",
    "    print(e)"
   ]
  },
  {
   "cell_type": "code",
   "execution_count": 10,
   "id": "4c178a9d",
   "metadata": {},
   "outputs": [],
   "source": [
    "conn.set_session(autocommit=True)"
   ]
  },
  {
   "cell_type": "markdown",
   "id": "a270ed5c",
   "metadata": {},
   "source": [
    "# Create Student Table"
   ]
  },
  {
   "cell_type": "code",
   "execution_count": 11,
   "id": "f491fa95",
   "metadata": {},
   "outputs": [],
   "source": [
    "try :\n",
    "    cur.execute(\"CREATE TABLE IF NOT EXISTS students (s_id int, name varchar, age int, gender varchar, subject varchar, mark int);\")\n",
    "except psycopg2.Error as e:\n",
    "    print('Error : Failed to create table')\n",
    "    print(e)"
   ]
  },
  {
   "cell_type": "markdown",
   "id": "dfb14f53",
   "metadata": {},
   "source": [
    "# Insert the data into students"
   ]
  },
  {
   "cell_type": "code",
   "execution_count": 12,
   "id": "0875b1f3",
   "metadata": {},
   "outputs": [],
   "source": [
    "try :\n",
    "    cur.execute(\"INSERT INTO students (s_id, name, age, gender, subject, mark) VALUES (1, 'Shubham',24, 'Male','Python',86)\")\n",
    "except psycopg2.Error as e:\n",
    "    print('Error : Failed to insert data into table')\n",
    "    print(e)"
   ]
  },
  {
   "cell_type": "code",
   "execution_count": 13,
   "id": "4848fd61",
   "metadata": {},
   "outputs": [],
   "source": [
    "try :\n",
    "    cur.execute(\"INSERT INTO students (s_id, name, age, gender, subject, mark) VALUES (2, 'Komal',21, 'Female','Python',90)\")\n",
    "except psycopg2.Error as e:\n",
    "    print('Error : Failed to insert data into table')\n",
    "    print(e)"
   ]
  },
  {
   "cell_type": "markdown",
   "id": "89c579ed",
   "metadata": {},
   "source": [
    "# Validate data"
   ]
  },
  {
   "cell_type": "code",
   "execution_count": 14,
   "id": "c5fc85ca",
   "metadata": {},
   "outputs": [],
   "source": [
    "try :\n",
    "    cur.execute(\"SELECT * FROM students;\")\n",
    "except psycopg2.Error as e:\n",
    "    print('Error : Failed')\n",
    "    print(e)"
   ]
  },
  {
   "cell_type": "code",
   "execution_count": 15,
   "id": "0b698bda",
   "metadata": {},
   "outputs": [
    {
     "name": "stdout",
     "output_type": "stream",
     "text": [
      "(1, 'Shubham', 24, 'Male', 'Python', 86)\n",
      "(2, 'Komal', 21, 'Female', 'Python', 90)\n"
     ]
    }
   ],
   "source": [
    "row = cur.fetchone()\n",
    "while row :\n",
    "    print(row)\n",
    "    row = cur.fetchone()"
   ]
  },
  {
   "cell_type": "markdown",
   "id": "99d3b75d",
   "metadata": {},
   "source": [
    "# Close connection"
   ]
  },
  {
   "cell_type": "code",
   "execution_count": 16,
   "id": "9fd5ddb5",
   "metadata": {},
   "outputs": [],
   "source": [
    "cur.close()\n",
    "conn.close()"
   ]
  }
 ],
 "metadata": {
  "kernelspec": {
   "display_name": "Python 3 (ipykernel)",
   "language": "python",
   "name": "python3"
  },
  "language_info": {
   "codemirror_mode": {
    "name": "ipython",
    "version": 3
   },
   "file_extension": ".py",
   "mimetype": "text/x-python",
   "name": "python",
   "nbconvert_exporter": "python",
   "pygments_lexer": "ipython3",
   "version": "3.11.3"
  }
 },
 "nbformat": 4,
 "nbformat_minor": 5
}
